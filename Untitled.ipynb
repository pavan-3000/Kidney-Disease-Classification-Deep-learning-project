{
 "cells": [
  {
   "cell_type": "code",
   "execution_count": 3,
   "id": "9b310bab",
   "metadata": {},
   "outputs": [],
   "source": [
    "f = open(\"sample.txt\",'w') \n"
   ]
  },
  {
   "cell_type": "code",
   "execution_count": 4,
   "id": "950effc5",
   "metadata": {},
   "outputs": [
    {
     "data": {
      "text/plain": [
       "6"
      ]
     },
     "execution_count": 4,
     "metadata": {},
     "output_type": "execute_result"
    }
   ],
   "source": [
    "f.write(\"helloe\")"
   ]
  },
  {
   "cell_type": "code",
   "execution_count": 7,
   "id": "7fc1ddb5",
   "metadata": {},
   "outputs": [
    {
     "data": {
      "text/plain": [
       "16"
      ]
     },
     "execution_count": 7,
     "metadata": {},
     "output_type": "execute_result"
    }
   ],
   "source": [
    "f = open('sample1.txt','w')\n",
    "f.write(\"hello world\")\n",
    "f.write(\"\\n this next line\")"
   ]
  },
  {
   "cell_type": "code",
   "execution_count": 9,
   "id": "b84a1e6c",
   "metadata": {},
   "outputs": [
    {
     "data": {
      "text/plain": [
       "11"
      ]
     },
     "execution_count": 9,
     "metadata": {},
     "output_type": "execute_result"
    }
   ],
   "source": [
    "f = open(\"sample.txt\",'w')\n",
    "f.write(\"salman khan\")"
   ]
  },
  {
   "cell_type": "code",
   "execution_count": 12,
   "id": "de429f28",
   "metadata": {},
   "outputs": [
    {
     "data": {
      "text/plain": [
       "13"
      ]
     },
     "execution_count": 12,
     "metadata": {},
     "output_type": "execute_result"
    }
   ],
   "source": [
    "f = open(\"sample.txt\",\"a\")\n",
    "f.write(\"\\nhe is a hero\")"
   ]
  },
  {
   "cell_type": "code",
   "execution_count": 14,
   "id": "0c755d32",
   "metadata": {},
   "outputs": [],
   "source": [
    "l = [\"hello, hi\\n , tjis si f \\n\"]\n",
    "f = open(\"sample.txt\",'w')\n",
    "f.writelines(l)"
   ]
  },
  {
   "cell_type": "code",
   "execution_count": null,
   "id": "38c3e50d",
   "metadata": {},
   "outputs": [],
   "source": []
  }
 ],
 "metadata": {
  "kernelspec": {
   "display_name": "Python 3 (ipykernel)",
   "language": "python",
   "name": "python3"
  },
  "language_info": {
   "codemirror_mode": {
    "name": "ipython",
    "version": 3
   },
   "file_extension": ".py",
   "mimetype": "text/x-python",
   "name": "python",
   "nbconvert_exporter": "python",
   "pygments_lexer": "ipython3",
   "version": "3.11.5"
  }
 },
 "nbformat": 4,
 "nbformat_minor": 5
}
