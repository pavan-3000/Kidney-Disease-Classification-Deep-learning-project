{
 "cells": [
  {
   "cell_type": "code",
   "execution_count": 1,
   "metadata": {},
   "outputs": [],
   "source": [
    "import os \n"
   ]
  },
  {
   "cell_type": "code",
   "execution_count": 2,
   "metadata": {},
   "outputs": [],
   "source": [
    "os.chdir(\"../\")"
   ]
  },
  {
   "cell_type": "code",
   "execution_count": 4,
   "metadata": {},
   "outputs": [],
   "source": [
    "from dataclasses import dataclass\n",
    "from pathlib import Path\n",
    "\n",
    "@dataclass\n",
    "class TrainingConfig:\n",
    "    root_dir: Path\n",
    "    trained_model_path: Path\n",
    "    updated_model_path: Path\n",
    "    training_data: Path\n",
    "    params_epochs: int\n",
    "    params_batch_size: int\n",
    "    params_is_augmentation: bool\n",
    "    params_image_size: list"
   ]
  },
  {
   "cell_type": "code",
   "execution_count": 7,
   "metadata": {},
   "outputs": [],
   "source": [
    "from src.project.constants import *\n",
    "from src.project.utils.common import  create_directory,read_yaml"
   ]
  },
  {
   "cell_type": "code",
   "execution_count": 8,
   "metadata": {},
   "outputs": [],
   "source": [
    "class configmanager:\n",
    "    def __init__(\n",
    "        self,\n",
    "        config_path = CONFIG_FILE_PATH,\n",
    "        params_path = PARAMS_FILE_PATH\n",
    "    ):\n",
    "        self.config = read_yaml(config_path)\n",
    "        self.params = read_yaml(params_path)\n",
    "        \n",
    "        create_directory([self.config.artifacts_root])\n",
    "    \n",
    "    \n",
    "    def TrainerManager(self) -> TrainingConfig:\n",
    "        trainer = self.config.training\n",
    "        base = self.config.prepared_base_model\n",
    "        params = self.params\n",
    "        training_data = os.path.join(self.config.data_ingestion.unzip_dir,'kidney-ct-scan-image')\n",
    "        \n",
    "        \n",
    "        \n",
    "        create_directory([trainer.root_dir])\n",
    "        \n",
    "        get_trainer = TrainingConfig(\n",
    "            root_dir = Path(trainer.root_dir),\n",
    "            trained_model_path=Path(trainer.trained_model_path),\n",
    "            updated_model_path=Path(base.updated_model_path),\n",
    "            training_data=Path(training_data),\n",
    "            params_batch_size=params.BATCH_SIZE,\n",
    "            params_epochs=params.EPOCHS,\n",
    "            params_image_size=params.IMAGE_SIZE,\n",
    "            params_is_augmentation=params.IS_AUGMENTATION\n",
    "        )\n",
    "        \n",
    "        return get_trainer"
   ]
  },
  {
   "cell_type": "code",
   "execution_count": null,
   "metadata": {},
   "outputs": [],
   "source": []
  }
 ],
 "metadata": {
  "kernelspec": {
   "display_name": "Python 3",
   "language": "python",
   "name": "python3"
  },
  "language_info": {
   "codemirror_mode": {
    "name": "ipython",
    "version": 3
   },
   "file_extension": ".py",
   "mimetype": "text/x-python",
   "name": "python",
   "nbconvert_exporter": "python",
   "pygments_lexer": "ipython3",
   "version": "3.9.0"
  }
 },
 "nbformat": 4,
 "nbformat_minor": 2
}
